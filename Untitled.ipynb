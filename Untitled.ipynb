{
 "cells": [
  {
   "cell_type": "markdown",
   "id": "17b1eb86-78c2-49f7-a64f-76a7ed5cf053",
   "metadata": {},
   "source": [
    "## 次元削減サンプル"
   ]
  },
  {
   "cell_type": "code",
   "execution_count": 27,
   "id": "f711af06-58e9-459d-973e-67b6011ac4f1",
   "metadata": {},
   "outputs": [
    {
     "name": "stdout",
     "output_type": "stream",
     "text": [
      "[[-0.57735027 -0.57735027 -0.57735027]\n",
      " [ 0.         -0.70710678  0.70710678]]\n"
     ]
    }
   ],
   "source": [
    "from sklearn.decomposition import PCA\n",
    "\n",
    "X = [[1, 2, 3], [4, 5, 6], [7, 8, 9]]\n",
    "\n",
    "pca = PCA(n_components=2)\n",
    "pca.fit(X)\n",
    "\n",
    "print(pca.components_)"
   ]
  },
  {
   "cell_type": "markdown",
   "id": "c3734c93-dad5-45d9-a3ec-50b62acdd0c4",
   "metadata": {},
   "source": [
    "### 解説\n",
    "\n",
    "3次元のデータセットXを2次元に次元削減するためにscikit-learnのPCAクラスを使用しています。\n",
    "\n",
    "PCAクラスを使用して、データセットXに適用して、次元削減後のデータセットを取得します。\n",
    "\n",
    "このサンプルでは、PCAクラスを使用して、3次元のデータセットXを2次元に次元削減しています。"
   ]
  },
  {
   "cell_type": "code",
   "execution_count": null,
   "id": "40d18877-ca87-4c1b-8dc2-4cd87e10d26c",
   "metadata": {},
   "outputs": [],
   "source": []
  }
 ],
 "metadata": {
  "kernelspec": {
   "display_name": "Python 3 (ipykernel)",
   "language": "python",
   "name": "python3"
  },
  "language_info": {
   "codemirror_mode": {
    "name": "ipython",
    "version": 3
   },
   "file_extension": ".py",
   "mimetype": "text/x-python",
   "name": "python",
   "nbconvert_exporter": "python",
   "pygments_lexer": "ipython3",
   "version": "3.7.1"
  }
 },
 "nbformat": 4,
 "nbformat_minor": 5
}
