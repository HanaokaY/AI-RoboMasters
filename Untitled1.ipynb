{
 "cells": [
  {
   "cell_type": "markdown",
   "id": "04177a9f-fe85-4d40-b0e8-f17a025f2344",
   "metadata": {},
   "source": [
    "## モデルの評価指標"
   ]
  },
  {
   "cell_type": "markdown",
   "id": "8a2f5908-f056-4c66-92ad-d81d3048ce4a",
   "metadata": {},
   "source": [
    "分類モデルの評価指標\n",
    "\n",
    "- 適合率\n",
    "- 再現率\n",
    "- F値\n",
    "- 正解率\n",
    "\n",
    "\n",
    "混同行列から計算される"
   ]
  },
  {
   "cell_type": "markdown",
   "id": "0a0a4a29-a6e4-4a8b-9fb7-9fb43d6c3f4c",
   "metadata": {},
   "source": [
    "適合率というのは、「犬である」と予測した画像のうち、実際に犬、つまり当たりの割合です。"
   ]
  },
  {
   "cell_type": "code",
   "execution_count": 4,
   "id": "96584f23-d037-4e93-9e41-5a4479381abc",
   "metadata": {},
   "outputs": [
    {
     "data": {
      "text/plain": [
       "[5, 2, 7]"
      ]
     },
     "execution_count": 4,
     "metadata": {},
     "output_type": "execute_result"
    }
   ],
   "source": [
    "sample = [\"yudai\", \"fu\", \"kosuaka\"]\n",
    "result = [len(name) for name in sample]\n",
    "result"
   ]
  },
  {
   "cell_type": "markdown",
   "id": "1b72882f-774e-4217-9ff1-21b04c68c990",
   "metadata": {},
   "source": [
    "## マッチする文字列さえあればエラーにはならない。"
   ]
  },
  {
   "cell_type": "code",
   "execution_count": 9,
   "id": "088126cd-d611-4256-9c8a-a53d0a45ecb2",
   "metadata": {},
   "outputs": [
    {
     "name": "stdout",
     "output_type": "stream",
     "text": [
      "Python\n"
     ]
    }
   ],
   "source": [
    "import re\n",
    "prog = re.compile(r'py?(th|ers)oni?(a[lmn]|c)?', re.IGNORECASE)\n",
    "ret = prog.search('The Zen of Python')\n",
    "if ret is None:\n",
    "    print('error')\n",
    "else:\n",
    "    print(ret[0])\n",
    "    "
   ]
  },
  {
   "cell_type": "markdown",
   "id": "d8423bb3-bc4d-43c5-a568-743716e6939b",
   "metadata": {},
   "source": [
    "## Numpy"
   ]
  },
  {
   "cell_type": "code",
   "execution_count": null,
   "id": "c657f0ca-7c63-4a83-897d-842d3e4419f9",
   "metadata": {},
   "outputs": [],
   "source": [
    "a = np.array([[1,2,3],[4,5,6]])"
   ]
  }
 ],
 "metadata": {
  "kernelspec": {
   "display_name": "Python 3 (ipykernel)",
   "language": "python",
   "name": "python3"
  },
  "language_info": {
   "codemirror_mode": {
    "name": "ipython",
    "version": 3
   },
   "file_extension": ".py",
   "mimetype": "text/x-python",
   "name": "python",
   "nbconvert_exporter": "python",
   "pygments_lexer": "ipython3",
   "version": "3.7.1"
  }
 },
 "nbformat": 4,
 "nbformat_minor": 5
}
